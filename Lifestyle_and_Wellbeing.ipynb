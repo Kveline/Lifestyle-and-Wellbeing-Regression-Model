{
  "nbformat": 4,
  "nbformat_minor": 0,
  "metadata": {
    "colab": {
      "provenance": []
    },
    "kernelspec": {
      "name": "python3",
      "display_name": "Python 3"
    },
    "language_info": {
      "name": "python"
    }
  },
  "cells": [
    {
      "cell_type": "markdown",
      "source": [
        "## Get the [data](https://www.kaggle.com/datasets/ydalat/lifestyle-and-wellbeing-data)"
      ],
      "metadata": {
        "id": "ap5eEHi63B4F"
      }
    },
    {
      "cell_type": "code",
      "execution_count": 5,
      "metadata": {
        "colab": {
          "base_uri": "https://localhost:8080/"
        },
        "id": "yDd_e0th2J6z",
        "outputId": "d85ebde9-bd76-4e72-f8d2-371ad230f90e"
      },
      "outputs": [
        {
          "output_type": "stream",
          "name": "stdout",
          "text": [
            "Mounted at /content/gdrive\n",
            "Drive already mounted at /content/gdrive; to attempt to forcibly remount, call drive.mount(\"/content/gdrive\", force_remount=True).\n"
          ]
        }
      ],
      "source": [
        "from google.colab import drive\n",
        "drive.mount(\"/content/gdrive\")"
      ]
    },
    {
      "cell_type": "code",
      "source": [
        "!pip install kaggle"
      ],
      "metadata": {
        "colab": {
          "base_uri": "https://localhost:8080/"
        },
        "id": "7Ac8CER73hOE",
        "outputId": "0d997775-cdb1-4b1b-ccb3-a292f4e04c43"
      },
      "execution_count": 6,
      "outputs": [
        {
          "output_type": "stream",
          "name": "stdout",
          "text": [
            "Requirement already satisfied: kaggle in /usr/local/lib/python3.10/dist-packages (1.5.15)\n",
            "Requirement already satisfied: six>=1.10 in /usr/local/lib/python3.10/dist-packages (from kaggle) (1.16.0)\n",
            "Requirement already satisfied: certifi in /usr/local/lib/python3.10/dist-packages (from kaggle) (2023.5.7)\n",
            "Requirement already satisfied: python-dateutil in /usr/local/lib/python3.10/dist-packages (from kaggle) (2.8.2)\n",
            "Requirement already satisfied: requests in /usr/local/lib/python3.10/dist-packages (from kaggle) (2.27.1)\n",
            "Requirement already satisfied: tqdm in /usr/local/lib/python3.10/dist-packages (from kaggle) (4.65.0)\n",
            "Requirement already satisfied: python-slugify in /usr/local/lib/python3.10/dist-packages (from kaggle) (8.0.1)\n",
            "Requirement already satisfied: urllib3 in /usr/local/lib/python3.10/dist-packages (from kaggle) (1.26.16)\n",
            "Requirement already satisfied: bleach in /usr/local/lib/python3.10/dist-packages (from kaggle) (6.0.0)\n",
            "Requirement already satisfied: webencodings in /usr/local/lib/python3.10/dist-packages (from bleach->kaggle) (0.5.1)\n",
            "Requirement already satisfied: text-unidecode>=1.3 in /usr/local/lib/python3.10/dist-packages (from python-slugify->kaggle) (1.3)\n",
            "Requirement already satisfied: charset-normalizer~=2.0.0 in /usr/local/lib/python3.10/dist-packages (from requests->kaggle) (2.0.12)\n",
            "Requirement already satisfied: idna<4,>=2.5 in /usr/local/lib/python3.10/dist-packages (from requests->kaggle) (3.4)\n"
          ]
        }
      ]
    },
    {
      "cell_type": "code",
      "source": [
        "import os\n",
        "os.environ[\"KAGGLE_CONFIG_DIR\"] = \"/content/gdrive/MyDrive/kaggle/\""
      ],
      "metadata": {
        "id": "ViUW5NrC-7VK"
      },
      "execution_count": 10,
      "outputs": []
    },
    {
      "cell_type": "code",
      "source": [
        "!kaggle datasets download -d ydalat/lifestyle-and-wellbeing-data"
      ],
      "metadata": {
        "colab": {
          "base_uri": "https://localhost:8080/"
        },
        "id": "cxU5Wg8a_iVm",
        "outputId": "2b7315bf-cece-46e8-8b3e-3aead46315b4"
      },
      "execution_count": 11,
      "outputs": [
        {
          "output_type": "stream",
          "name": "stdout",
          "text": [
            "Downloading lifestyle-and-wellbeing-data.zip to /content\n",
            "\r  0% 0.00/294k [00:00<?, ?B/s]\n",
            "\r100% 294k/294k [00:00<00:00, 95.2MB/s]\n"
          ]
        }
      ]
    },
    {
      "cell_type": "code",
      "source": [
        "import zipfile\n",
        "\n",
        "# unzip the downloaded data\n",
        "zip_ref = zipfile.ZipFile(\"/content/lifestyle-and-wellbeing-data.zip\")\n",
        "zip_ref.extractall()\n",
        "zip_ref.close()"
      ],
      "metadata": {
        "id": "cvh-33_yABYb"
      },
      "execution_count": 12,
      "outputs": []
    },
    {
      "cell_type": "markdown",
      "source": [
        "## Preprocessing Data"
      ],
      "metadata": {
        "id": "lU-ck1ddAg3K"
      }
    },
    {
      "cell_type": "code",
      "source": [
        "import pandas as pd\n",
        "import matplotlib.pyplot as plt\n",
        "import tensorflow as tf\n",
        "\n",
        "# read data\n",
        "data = pd.read_csv(\"/content/Wellbeing_and_lifestyle_data_Kaggle.csv\")"
      ],
      "metadata": {
        "id": "eT67xIpCAioE"
      },
      "execution_count": 13,
      "outputs": []
    },
    {
      "cell_type": "code",
      "source": [
        "data.head()"
      ],
      "metadata": {
        "colab": {
          "base_uri": "https://localhost:8080/",
          "height": 386
        },
        "id": "83x9f1pJA1au",
        "outputId": "3bb335ca-b6e7-4026-ab4f-f43de223d4e5"
      },
      "execution_count": 14,
      "outputs": [
        {
          "output_type": "execute_result",
          "data": {
            "text/plain": [
              "  Timestamp  FRUITS_VEGGIES DAILY_STRESS  PLACES_VISITED  CORE_CIRCLE  \\\n",
              "0    7/7/15               3            2               2            5   \n",
              "1    7/7/15               2            3               4            3   \n",
              "2    7/7/15               2            3               3            4   \n",
              "3    7/7/15               3            3              10            3   \n",
              "4    7/7/15               5            1               3            3   \n",
              "\n",
              "   SUPPORTING_OTHERS  SOCIAL_NETWORK  ACHIEVEMENT  DONATION  BMI_RANGE  ...  \\\n",
              "0                  0               5            2         0          1  ...   \n",
              "1                  8              10            5         2          2  ...   \n",
              "2                  4              10            3         2          2  ...   \n",
              "3                 10               7            2         5          2  ...   \n",
              "4                 10               4            2         4          2  ...   \n",
              "\n",
              "   SLEEP_HOURS  LOST_VACATION  DAILY_SHOUTING  SUFFICIENT_INCOME  \\\n",
              "0            7              5               5                  1   \n",
              "1            8              2               2                  2   \n",
              "2            8             10               2                  2   \n",
              "3            5              7               5                  1   \n",
              "4            7              0               0                  2   \n",
              "\n",
              "   PERSONAL_AWARDS  TIME_FOR_PASSION  WEEKLY_MEDITATION         AGE  GENDER  \\\n",
              "0                4                 0                  5    36 to 50  Female   \n",
              "1                3                 2                  6    36 to 50  Female   \n",
              "2                4                 8                  3    36 to 50  Female   \n",
              "3                5                 2                  0  51 or more  Female   \n",
              "4                8                 1                  5  51 or more  Female   \n",
              "\n",
              "   WORK_LIFE_BALANCE_SCORE  \n",
              "0                    609.5  \n",
              "1                    655.6  \n",
              "2                    631.6  \n",
              "3                    622.7  \n",
              "4                    663.9  \n",
              "\n",
              "[5 rows x 24 columns]"
            ],
            "text/html": [
              "\n",
              "\n",
              "  <div id=\"df-9225ce50-b350-4f8f-a917-47fa56bc3415\">\n",
              "    <div class=\"colab-df-container\">\n",
              "      <div>\n",
              "<style scoped>\n",
              "    .dataframe tbody tr th:only-of-type {\n",
              "        vertical-align: middle;\n",
              "    }\n",
              "\n",
              "    .dataframe tbody tr th {\n",
              "        vertical-align: top;\n",
              "    }\n",
              "\n",
              "    .dataframe thead th {\n",
              "        text-align: right;\n",
              "    }\n",
              "</style>\n",
              "<table border=\"1\" class=\"dataframe\">\n",
              "  <thead>\n",
              "    <tr style=\"text-align: right;\">\n",
              "      <th></th>\n",
              "      <th>Timestamp</th>\n",
              "      <th>FRUITS_VEGGIES</th>\n",
              "      <th>DAILY_STRESS</th>\n",
              "      <th>PLACES_VISITED</th>\n",
              "      <th>CORE_CIRCLE</th>\n",
              "      <th>SUPPORTING_OTHERS</th>\n",
              "      <th>SOCIAL_NETWORK</th>\n",
              "      <th>ACHIEVEMENT</th>\n",
              "      <th>DONATION</th>\n",
              "      <th>BMI_RANGE</th>\n",
              "      <th>...</th>\n",
              "      <th>SLEEP_HOURS</th>\n",
              "      <th>LOST_VACATION</th>\n",
              "      <th>DAILY_SHOUTING</th>\n",
              "      <th>SUFFICIENT_INCOME</th>\n",
              "      <th>PERSONAL_AWARDS</th>\n",
              "      <th>TIME_FOR_PASSION</th>\n",
              "      <th>WEEKLY_MEDITATION</th>\n",
              "      <th>AGE</th>\n",
              "      <th>GENDER</th>\n",
              "      <th>WORK_LIFE_BALANCE_SCORE</th>\n",
              "    </tr>\n",
              "  </thead>\n",
              "  <tbody>\n",
              "    <tr>\n",
              "      <th>0</th>\n",
              "      <td>7/7/15</td>\n",
              "      <td>3</td>\n",
              "      <td>2</td>\n",
              "      <td>2</td>\n",
              "      <td>5</td>\n",
              "      <td>0</td>\n",
              "      <td>5</td>\n",
              "      <td>2</td>\n",
              "      <td>0</td>\n",
              "      <td>1</td>\n",
              "      <td>...</td>\n",
              "      <td>7</td>\n",
              "      <td>5</td>\n",
              "      <td>5</td>\n",
              "      <td>1</td>\n",
              "      <td>4</td>\n",
              "      <td>0</td>\n",
              "      <td>5</td>\n",
              "      <td>36 to 50</td>\n",
              "      <td>Female</td>\n",
              "      <td>609.5</td>\n",
              "    </tr>\n",
              "    <tr>\n",
              "      <th>1</th>\n",
              "      <td>7/7/15</td>\n",
              "      <td>2</td>\n",
              "      <td>3</td>\n",
              "      <td>4</td>\n",
              "      <td>3</td>\n",
              "      <td>8</td>\n",
              "      <td>10</td>\n",
              "      <td>5</td>\n",
              "      <td>2</td>\n",
              "      <td>2</td>\n",
              "      <td>...</td>\n",
              "      <td>8</td>\n",
              "      <td>2</td>\n",
              "      <td>2</td>\n",
              "      <td>2</td>\n",
              "      <td>3</td>\n",
              "      <td>2</td>\n",
              "      <td>6</td>\n",
              "      <td>36 to 50</td>\n",
              "      <td>Female</td>\n",
              "      <td>655.6</td>\n",
              "    </tr>\n",
              "    <tr>\n",
              "      <th>2</th>\n",
              "      <td>7/7/15</td>\n",
              "      <td>2</td>\n",
              "      <td>3</td>\n",
              "      <td>3</td>\n",
              "      <td>4</td>\n",
              "      <td>4</td>\n",
              "      <td>10</td>\n",
              "      <td>3</td>\n",
              "      <td>2</td>\n",
              "      <td>2</td>\n",
              "      <td>...</td>\n",
              "      <td>8</td>\n",
              "      <td>10</td>\n",
              "      <td>2</td>\n",
              "      <td>2</td>\n",
              "      <td>4</td>\n",
              "      <td>8</td>\n",
              "      <td>3</td>\n",
              "      <td>36 to 50</td>\n",
              "      <td>Female</td>\n",
              "      <td>631.6</td>\n",
              "    </tr>\n",
              "    <tr>\n",
              "      <th>3</th>\n",
              "      <td>7/7/15</td>\n",
              "      <td>3</td>\n",
              "      <td>3</td>\n",
              "      <td>10</td>\n",
              "      <td>3</td>\n",
              "      <td>10</td>\n",
              "      <td>7</td>\n",
              "      <td>2</td>\n",
              "      <td>5</td>\n",
              "      <td>2</td>\n",
              "      <td>...</td>\n",
              "      <td>5</td>\n",
              "      <td>7</td>\n",
              "      <td>5</td>\n",
              "      <td>1</td>\n",
              "      <td>5</td>\n",
              "      <td>2</td>\n",
              "      <td>0</td>\n",
              "      <td>51 or more</td>\n",
              "      <td>Female</td>\n",
              "      <td>622.7</td>\n",
              "    </tr>\n",
              "    <tr>\n",
              "      <th>4</th>\n",
              "      <td>7/7/15</td>\n",
              "      <td>5</td>\n",
              "      <td>1</td>\n",
              "      <td>3</td>\n",
              "      <td>3</td>\n",
              "      <td>10</td>\n",
              "      <td>4</td>\n",
              "      <td>2</td>\n",
              "      <td>4</td>\n",
              "      <td>2</td>\n",
              "      <td>...</td>\n",
              "      <td>7</td>\n",
              "      <td>0</td>\n",
              "      <td>0</td>\n",
              "      <td>2</td>\n",
              "      <td>8</td>\n",
              "      <td>1</td>\n",
              "      <td>5</td>\n",
              "      <td>51 or more</td>\n",
              "      <td>Female</td>\n",
              "      <td>663.9</td>\n",
              "    </tr>\n",
              "  </tbody>\n",
              "</table>\n",
              "<p>5 rows × 24 columns</p>\n",
              "</div>\n",
              "      <button class=\"colab-df-convert\" onclick=\"convertToInteractive('df-9225ce50-b350-4f8f-a917-47fa56bc3415')\"\n",
              "              title=\"Convert this dataframe to an interactive table.\"\n",
              "              style=\"display:none;\">\n",
              "\n",
              "  <svg xmlns=\"http://www.w3.org/2000/svg\" height=\"24px\"viewBox=\"0 0 24 24\"\n",
              "       width=\"24px\">\n",
              "    <path d=\"M0 0h24v24H0V0z\" fill=\"none\"/>\n",
              "    <path d=\"M18.56 5.44l.94 2.06.94-2.06 2.06-.94-2.06-.94-.94-2.06-.94 2.06-2.06.94zm-11 1L8.5 8.5l.94-2.06 2.06-.94-2.06-.94L8.5 2.5l-.94 2.06-2.06.94zm10 10l.94 2.06.94-2.06 2.06-.94-2.06-.94-.94-2.06-.94 2.06-2.06.94z\"/><path d=\"M17.41 7.96l-1.37-1.37c-.4-.4-.92-.59-1.43-.59-.52 0-1.04.2-1.43.59L10.3 9.45l-7.72 7.72c-.78.78-.78 2.05 0 2.83L4 21.41c.39.39.9.59 1.41.59.51 0 1.02-.2 1.41-.59l7.78-7.78 2.81-2.81c.8-.78.8-2.07 0-2.86zM5.41 20L4 18.59l7.72-7.72 1.47 1.35L5.41 20z\"/>\n",
              "  </svg>\n",
              "      </button>\n",
              "\n",
              "\n",
              "\n",
              "    <div id=\"df-227a8eb3-05d2-40f7-adc8-4ad50efca832\">\n",
              "      <button class=\"colab-df-quickchart\" onclick=\"quickchart('df-227a8eb3-05d2-40f7-adc8-4ad50efca832')\"\n",
              "              title=\"Suggest charts.\"\n",
              "              style=\"display:none;\">\n",
              "\n",
              "<svg xmlns=\"http://www.w3.org/2000/svg\" height=\"24px\"viewBox=\"0 0 24 24\"\n",
              "     width=\"24px\">\n",
              "    <g>\n",
              "        <path d=\"M19 3H5c-1.1 0-2 .9-2 2v14c0 1.1.9 2 2 2h14c1.1 0 2-.9 2-2V5c0-1.1-.9-2-2-2zM9 17H7v-7h2v7zm4 0h-2V7h2v10zm4 0h-2v-4h2v4z\"/>\n",
              "    </g>\n",
              "</svg>\n",
              "      </button>\n",
              "    </div>\n",
              "\n",
              "<style>\n",
              "  .colab-df-quickchart {\n",
              "    background-color: #E8F0FE;\n",
              "    border: none;\n",
              "    border-radius: 50%;\n",
              "    cursor: pointer;\n",
              "    display: none;\n",
              "    fill: #1967D2;\n",
              "    height: 32px;\n",
              "    padding: 0 0 0 0;\n",
              "    width: 32px;\n",
              "  }\n",
              "\n",
              "  .colab-df-quickchart:hover {\n",
              "    background-color: #E2EBFA;\n",
              "    box-shadow: 0px 1px 2px rgba(60, 64, 67, 0.3), 0px 1px 3px 1px rgba(60, 64, 67, 0.15);\n",
              "    fill: #174EA6;\n",
              "  }\n",
              "\n",
              "  [theme=dark] .colab-df-quickchart {\n",
              "    background-color: #3B4455;\n",
              "    fill: #D2E3FC;\n",
              "  }\n",
              "\n",
              "  [theme=dark] .colab-df-quickchart:hover {\n",
              "    background-color: #434B5C;\n",
              "    box-shadow: 0px 1px 3px 1px rgba(0, 0, 0, 0.15);\n",
              "    filter: drop-shadow(0px 1px 2px rgba(0, 0, 0, 0.3));\n",
              "    fill: #FFFFFF;\n",
              "  }\n",
              "</style>\n",
              "\n",
              "    <script>\n",
              "      async function quickchart(key) {\n",
              "        const containerElement = document.querySelector('#' + key);\n",
              "        const charts = await google.colab.kernel.invokeFunction(\n",
              "            'suggestCharts', [key], {});\n",
              "      }\n",
              "    </script>\n",
              "\n",
              "      <script>\n",
              "\n",
              "function displayQuickchartButton(domScope) {\n",
              "  let quickchartButtonEl =\n",
              "    domScope.querySelector('#df-227a8eb3-05d2-40f7-adc8-4ad50efca832 button.colab-df-quickchart');\n",
              "  quickchartButtonEl.style.display =\n",
              "    google.colab.kernel.accessAllowed ? 'block' : 'none';\n",
              "}\n",
              "\n",
              "        displayQuickchartButton(document);\n",
              "      </script>\n",
              "      <style>\n",
              "    .colab-df-container {\n",
              "      display:flex;\n",
              "      flex-wrap:wrap;\n",
              "      gap: 12px;\n",
              "    }\n",
              "\n",
              "    .colab-df-convert {\n",
              "      background-color: #E8F0FE;\n",
              "      border: none;\n",
              "      border-radius: 50%;\n",
              "      cursor: pointer;\n",
              "      display: none;\n",
              "      fill: #1967D2;\n",
              "      height: 32px;\n",
              "      padding: 0 0 0 0;\n",
              "      width: 32px;\n",
              "    }\n",
              "\n",
              "    .colab-df-convert:hover {\n",
              "      background-color: #E2EBFA;\n",
              "      box-shadow: 0px 1px 2px rgba(60, 64, 67, 0.3), 0px 1px 3px 1px rgba(60, 64, 67, 0.15);\n",
              "      fill: #174EA6;\n",
              "    }\n",
              "\n",
              "    [theme=dark] .colab-df-convert {\n",
              "      background-color: #3B4455;\n",
              "      fill: #D2E3FC;\n",
              "    }\n",
              "\n",
              "    [theme=dark] .colab-df-convert:hover {\n",
              "      background-color: #434B5C;\n",
              "      box-shadow: 0px 1px 3px 1px rgba(0, 0, 0, 0.15);\n",
              "      filter: drop-shadow(0px 1px 2px rgba(0, 0, 0, 0.3));\n",
              "      fill: #FFFFFF;\n",
              "    }\n",
              "  </style>\n",
              "\n",
              "      <script>\n",
              "        const buttonEl =\n",
              "          document.querySelector('#df-9225ce50-b350-4f8f-a917-47fa56bc3415 button.colab-df-convert');\n",
              "        buttonEl.style.display =\n",
              "          google.colab.kernel.accessAllowed ? 'block' : 'none';\n",
              "\n",
              "        async function convertToInteractive(key) {\n",
              "          const element = document.querySelector('#df-9225ce50-b350-4f8f-a917-47fa56bc3415');\n",
              "          const dataTable =\n",
              "            await google.colab.kernel.invokeFunction('convertToInteractive',\n",
              "                                                     [key], {});\n",
              "          if (!dataTable) return;\n",
              "\n",
              "          const docLinkHtml = 'Like what you see? Visit the ' +\n",
              "            '<a target=\"_blank\" href=https://colab.research.google.com/notebooks/data_table.ipynb>data table notebook</a>'\n",
              "            + ' to learn more about interactive tables.';\n",
              "          element.innerHTML = '';\n",
              "          dataTable['output_type'] = 'display_data';\n",
              "          await google.colab.output.renderOutput(dataTable, element);\n",
              "          const docLink = document.createElement('div');\n",
              "          docLink.innerHTML = docLinkHtml;\n",
              "          element.appendChild(docLink);\n",
              "        }\n",
              "      </script>\n",
              "    </div>\n",
              "  </div>\n"
            ]
          },
          "metadata": {},
          "execution_count": 14
        }
      ]
    },
    {
      "cell_type": "code",
      "source": [
        "# remove the timestamp column\n",
        "data.drop('Timestamp', axis=1, inplace=True)"
      ],
      "metadata": {
        "id": "W6MbomcaBE_6"
      },
      "execution_count": 15,
      "outputs": []
    },
    {
      "cell_type": "code",
      "source": [
        "data.head()"
      ],
      "metadata": {
        "colab": {
          "base_uri": "https://localhost:8080/",
          "height": 386
        },
        "id": "stxLFpWLBK-F",
        "outputId": "f39f945b-d47e-4874-b0df-3131c5a5aebd"
      },
      "execution_count": 16,
      "outputs": [
        {
          "output_type": "execute_result",
          "data": {
            "text/plain": [
              "   FRUITS_VEGGIES DAILY_STRESS  PLACES_VISITED  CORE_CIRCLE  \\\n",
              "0               3            2               2            5   \n",
              "1               2            3               4            3   \n",
              "2               2            3               3            4   \n",
              "3               3            3              10            3   \n",
              "4               5            1               3            3   \n",
              "\n",
              "   SUPPORTING_OTHERS  SOCIAL_NETWORK  ACHIEVEMENT  DONATION  BMI_RANGE  \\\n",
              "0                  0               5            2         0          1   \n",
              "1                  8              10            5         2          2   \n",
              "2                  4              10            3         2          2   \n",
              "3                 10               7            2         5          2   \n",
              "4                 10               4            2         4          2   \n",
              "\n",
              "   TODO_COMPLETED  ...  SLEEP_HOURS  LOST_VACATION  DAILY_SHOUTING  \\\n",
              "0               6  ...            7              5               5   \n",
              "1               5  ...            8              2               2   \n",
              "2               2  ...            8             10               2   \n",
              "3               3  ...            5              7               5   \n",
              "4               5  ...            7              0               0   \n",
              "\n",
              "   SUFFICIENT_INCOME  PERSONAL_AWARDS  TIME_FOR_PASSION  WEEKLY_MEDITATION  \\\n",
              "0                  1                4                 0                  5   \n",
              "1                  2                3                 2                  6   \n",
              "2                  2                4                 8                  3   \n",
              "3                  1                5                 2                  0   \n",
              "4                  2                8                 1                  5   \n",
              "\n",
              "          AGE  GENDER  WORK_LIFE_BALANCE_SCORE  \n",
              "0    36 to 50  Female                    609.5  \n",
              "1    36 to 50  Female                    655.6  \n",
              "2    36 to 50  Female                    631.6  \n",
              "3  51 or more  Female                    622.7  \n",
              "4  51 or more  Female                    663.9  \n",
              "\n",
              "[5 rows x 23 columns]"
            ],
            "text/html": [
              "\n",
              "\n",
              "  <div id=\"df-df727ff5-5995-4cf3-9895-0364cc579a77\">\n",
              "    <div class=\"colab-df-container\">\n",
              "      <div>\n",
              "<style scoped>\n",
              "    .dataframe tbody tr th:only-of-type {\n",
              "        vertical-align: middle;\n",
              "    }\n",
              "\n",
              "    .dataframe tbody tr th {\n",
              "        vertical-align: top;\n",
              "    }\n",
              "\n",
              "    .dataframe thead th {\n",
              "        text-align: right;\n",
              "    }\n",
              "</style>\n",
              "<table border=\"1\" class=\"dataframe\">\n",
              "  <thead>\n",
              "    <tr style=\"text-align: right;\">\n",
              "      <th></th>\n",
              "      <th>FRUITS_VEGGIES</th>\n",
              "      <th>DAILY_STRESS</th>\n",
              "      <th>PLACES_VISITED</th>\n",
              "      <th>CORE_CIRCLE</th>\n",
              "      <th>SUPPORTING_OTHERS</th>\n",
              "      <th>SOCIAL_NETWORK</th>\n",
              "      <th>ACHIEVEMENT</th>\n",
              "      <th>DONATION</th>\n",
              "      <th>BMI_RANGE</th>\n",
              "      <th>TODO_COMPLETED</th>\n",
              "      <th>...</th>\n",
              "      <th>SLEEP_HOURS</th>\n",
              "      <th>LOST_VACATION</th>\n",
              "      <th>DAILY_SHOUTING</th>\n",
              "      <th>SUFFICIENT_INCOME</th>\n",
              "      <th>PERSONAL_AWARDS</th>\n",
              "      <th>TIME_FOR_PASSION</th>\n",
              "      <th>WEEKLY_MEDITATION</th>\n",
              "      <th>AGE</th>\n",
              "      <th>GENDER</th>\n",
              "      <th>WORK_LIFE_BALANCE_SCORE</th>\n",
              "    </tr>\n",
              "  </thead>\n",
              "  <tbody>\n",
              "    <tr>\n",
              "      <th>0</th>\n",
              "      <td>3</td>\n",
              "      <td>2</td>\n",
              "      <td>2</td>\n",
              "      <td>5</td>\n",
              "      <td>0</td>\n",
              "      <td>5</td>\n",
              "      <td>2</td>\n",
              "      <td>0</td>\n",
              "      <td>1</td>\n",
              "      <td>6</td>\n",
              "      <td>...</td>\n",
              "      <td>7</td>\n",
              "      <td>5</td>\n",
              "      <td>5</td>\n",
              "      <td>1</td>\n",
              "      <td>4</td>\n",
              "      <td>0</td>\n",
              "      <td>5</td>\n",
              "      <td>36 to 50</td>\n",
              "      <td>Female</td>\n",
              "      <td>609.5</td>\n",
              "    </tr>\n",
              "    <tr>\n",
              "      <th>1</th>\n",
              "      <td>2</td>\n",
              "      <td>3</td>\n",
              "      <td>4</td>\n",
              "      <td>3</td>\n",
              "      <td>8</td>\n",
              "      <td>10</td>\n",
              "      <td>5</td>\n",
              "      <td>2</td>\n",
              "      <td>2</td>\n",
              "      <td>5</td>\n",
              "      <td>...</td>\n",
              "      <td>8</td>\n",
              "      <td>2</td>\n",
              "      <td>2</td>\n",
              "      <td>2</td>\n",
              "      <td>3</td>\n",
              "      <td>2</td>\n",
              "      <td>6</td>\n",
              "      <td>36 to 50</td>\n",
              "      <td>Female</td>\n",
              "      <td>655.6</td>\n",
              "    </tr>\n",
              "    <tr>\n",
              "      <th>2</th>\n",
              "      <td>2</td>\n",
              "      <td>3</td>\n",
              "      <td>3</td>\n",
              "      <td>4</td>\n",
              "      <td>4</td>\n",
              "      <td>10</td>\n",
              "      <td>3</td>\n",
              "      <td>2</td>\n",
              "      <td>2</td>\n",
              "      <td>2</td>\n",
              "      <td>...</td>\n",
              "      <td>8</td>\n",
              "      <td>10</td>\n",
              "      <td>2</td>\n",
              "      <td>2</td>\n",
              "      <td>4</td>\n",
              "      <td>8</td>\n",
              "      <td>3</td>\n",
              "      <td>36 to 50</td>\n",
              "      <td>Female</td>\n",
              "      <td>631.6</td>\n",
              "    </tr>\n",
              "    <tr>\n",
              "      <th>3</th>\n",
              "      <td>3</td>\n",
              "      <td>3</td>\n",
              "      <td>10</td>\n",
              "      <td>3</td>\n",
              "      <td>10</td>\n",
              "      <td>7</td>\n",
              "      <td>2</td>\n",
              "      <td>5</td>\n",
              "      <td>2</td>\n",
              "      <td>3</td>\n",
              "      <td>...</td>\n",
              "      <td>5</td>\n",
              "      <td>7</td>\n",
              "      <td>5</td>\n",
              "      <td>1</td>\n",
              "      <td>5</td>\n",
              "      <td>2</td>\n",
              "      <td>0</td>\n",
              "      <td>51 or more</td>\n",
              "      <td>Female</td>\n",
              "      <td>622.7</td>\n",
              "    </tr>\n",
              "    <tr>\n",
              "      <th>4</th>\n",
              "      <td>5</td>\n",
              "      <td>1</td>\n",
              "      <td>3</td>\n",
              "      <td>3</td>\n",
              "      <td>10</td>\n",
              "      <td>4</td>\n",
              "      <td>2</td>\n",
              "      <td>4</td>\n",
              "      <td>2</td>\n",
              "      <td>5</td>\n",
              "      <td>...</td>\n",
              "      <td>7</td>\n",
              "      <td>0</td>\n",
              "      <td>0</td>\n",
              "      <td>2</td>\n",
              "      <td>8</td>\n",
              "      <td>1</td>\n",
              "      <td>5</td>\n",
              "      <td>51 or more</td>\n",
              "      <td>Female</td>\n",
              "      <td>663.9</td>\n",
              "    </tr>\n",
              "  </tbody>\n",
              "</table>\n",
              "<p>5 rows × 23 columns</p>\n",
              "</div>\n",
              "      <button class=\"colab-df-convert\" onclick=\"convertToInteractive('df-df727ff5-5995-4cf3-9895-0364cc579a77')\"\n",
              "              title=\"Convert this dataframe to an interactive table.\"\n",
              "              style=\"display:none;\">\n",
              "\n",
              "  <svg xmlns=\"http://www.w3.org/2000/svg\" height=\"24px\"viewBox=\"0 0 24 24\"\n",
              "       width=\"24px\">\n",
              "    <path d=\"M0 0h24v24H0V0z\" fill=\"none\"/>\n",
              "    <path d=\"M18.56 5.44l.94 2.06.94-2.06 2.06-.94-2.06-.94-.94-2.06-.94 2.06-2.06.94zm-11 1L8.5 8.5l.94-2.06 2.06-.94-2.06-.94L8.5 2.5l-.94 2.06-2.06.94zm10 10l.94 2.06.94-2.06 2.06-.94-2.06-.94-.94-2.06-.94 2.06-2.06.94z\"/><path d=\"M17.41 7.96l-1.37-1.37c-.4-.4-.92-.59-1.43-.59-.52 0-1.04.2-1.43.59L10.3 9.45l-7.72 7.72c-.78.78-.78 2.05 0 2.83L4 21.41c.39.39.9.59 1.41.59.51 0 1.02-.2 1.41-.59l7.78-7.78 2.81-2.81c.8-.78.8-2.07 0-2.86zM5.41 20L4 18.59l7.72-7.72 1.47 1.35L5.41 20z\"/>\n",
              "  </svg>\n",
              "      </button>\n",
              "\n",
              "\n",
              "\n",
              "    <div id=\"df-609be760-4c93-4410-a3f4-0f3a29e81aae\">\n",
              "      <button class=\"colab-df-quickchart\" onclick=\"quickchart('df-609be760-4c93-4410-a3f4-0f3a29e81aae')\"\n",
              "              title=\"Suggest charts.\"\n",
              "              style=\"display:none;\">\n",
              "\n",
              "<svg xmlns=\"http://www.w3.org/2000/svg\" height=\"24px\"viewBox=\"0 0 24 24\"\n",
              "     width=\"24px\">\n",
              "    <g>\n",
              "        <path d=\"M19 3H5c-1.1 0-2 .9-2 2v14c0 1.1.9 2 2 2h14c1.1 0 2-.9 2-2V5c0-1.1-.9-2-2-2zM9 17H7v-7h2v7zm4 0h-2V7h2v10zm4 0h-2v-4h2v4z\"/>\n",
              "    </g>\n",
              "</svg>\n",
              "      </button>\n",
              "    </div>\n",
              "\n",
              "<style>\n",
              "  .colab-df-quickchart {\n",
              "    background-color: #E8F0FE;\n",
              "    border: none;\n",
              "    border-radius: 50%;\n",
              "    cursor: pointer;\n",
              "    display: none;\n",
              "    fill: #1967D2;\n",
              "    height: 32px;\n",
              "    padding: 0 0 0 0;\n",
              "    width: 32px;\n",
              "  }\n",
              "\n",
              "  .colab-df-quickchart:hover {\n",
              "    background-color: #E2EBFA;\n",
              "    box-shadow: 0px 1px 2px rgba(60, 64, 67, 0.3), 0px 1px 3px 1px rgba(60, 64, 67, 0.15);\n",
              "    fill: #174EA6;\n",
              "  }\n",
              "\n",
              "  [theme=dark] .colab-df-quickchart {\n",
              "    background-color: #3B4455;\n",
              "    fill: #D2E3FC;\n",
              "  }\n",
              "\n",
              "  [theme=dark] .colab-df-quickchart:hover {\n",
              "    background-color: #434B5C;\n",
              "    box-shadow: 0px 1px 3px 1px rgba(0, 0, 0, 0.15);\n",
              "    filter: drop-shadow(0px 1px 2px rgba(0, 0, 0, 0.3));\n",
              "    fill: #FFFFFF;\n",
              "  }\n",
              "</style>\n",
              "\n",
              "    <script>\n",
              "      async function quickchart(key) {\n",
              "        const containerElement = document.querySelector('#' + key);\n",
              "        const charts = await google.colab.kernel.invokeFunction(\n",
              "            'suggestCharts', [key], {});\n",
              "      }\n",
              "    </script>\n",
              "\n",
              "      <script>\n",
              "\n",
              "function displayQuickchartButton(domScope) {\n",
              "  let quickchartButtonEl =\n",
              "    domScope.querySelector('#df-609be760-4c93-4410-a3f4-0f3a29e81aae button.colab-df-quickchart');\n",
              "  quickchartButtonEl.style.display =\n",
              "    google.colab.kernel.accessAllowed ? 'block' : 'none';\n",
              "}\n",
              "\n",
              "        displayQuickchartButton(document);\n",
              "      </script>\n",
              "      <style>\n",
              "    .colab-df-container {\n",
              "      display:flex;\n",
              "      flex-wrap:wrap;\n",
              "      gap: 12px;\n",
              "    }\n",
              "\n",
              "    .colab-df-convert {\n",
              "      background-color: #E8F0FE;\n",
              "      border: none;\n",
              "      border-radius: 50%;\n",
              "      cursor: pointer;\n",
              "      display: none;\n",
              "      fill: #1967D2;\n",
              "      height: 32px;\n",
              "      padding: 0 0 0 0;\n",
              "      width: 32px;\n",
              "    }\n",
              "\n",
              "    .colab-df-convert:hover {\n",
              "      background-color: #E2EBFA;\n",
              "      box-shadow: 0px 1px 2px rgba(60, 64, 67, 0.3), 0px 1px 3px 1px rgba(60, 64, 67, 0.15);\n",
              "      fill: #174EA6;\n",
              "    }\n",
              "\n",
              "    [theme=dark] .colab-df-convert {\n",
              "      background-color: #3B4455;\n",
              "      fill: #D2E3FC;\n",
              "    }\n",
              "\n",
              "    [theme=dark] .colab-df-convert:hover {\n",
              "      background-color: #434B5C;\n",
              "      box-shadow: 0px 1px 3px 1px rgba(0, 0, 0, 0.15);\n",
              "      filter: drop-shadow(0px 1px 2px rgba(0, 0, 0, 0.3));\n",
              "      fill: #FFFFFF;\n",
              "    }\n",
              "  </style>\n",
              "\n",
              "      <script>\n",
              "        const buttonEl =\n",
              "          document.querySelector('#df-df727ff5-5995-4cf3-9895-0364cc579a77 button.colab-df-convert');\n",
              "        buttonEl.style.display =\n",
              "          google.colab.kernel.accessAllowed ? 'block' : 'none';\n",
              "\n",
              "        async function convertToInteractive(key) {\n",
              "          const element = document.querySelector('#df-df727ff5-5995-4cf3-9895-0364cc579a77');\n",
              "          const dataTable =\n",
              "            await google.colab.kernel.invokeFunction('convertToInteractive',\n",
              "                                                     [key], {});\n",
              "          if (!dataTable) return;\n",
              "\n",
              "          const docLinkHtml = 'Like what you see? Visit the ' +\n",
              "            '<a target=\"_blank\" href=https://colab.research.google.com/notebooks/data_table.ipynb>data table notebook</a>'\n",
              "            + ' to learn more about interactive tables.';\n",
              "          element.innerHTML = '';\n",
              "          dataTable['output_type'] = 'display_data';\n",
              "          await google.colab.output.renderOutput(dataTable, element);\n",
              "          const docLink = document.createElement('div');\n",
              "          docLink.innerHTML = docLinkHtml;\n",
              "          element.appendChild(docLink);\n",
              "        }\n",
              "      </script>\n",
              "    </div>\n",
              "  </div>\n"
            ]
          },
          "metadata": {},
          "execution_count": 16
        }
      ]
    },
    {
      "cell_type": "code",
      "source": [
        "# check the datatype, to make sure all of them is number\n",
        "data.dtypes"
      ],
      "metadata": {
        "colab": {
          "base_uri": "https://localhost:8080/"
        },
        "id": "x7D7EvYFMuuY",
        "outputId": "bc4ed951-9fdb-4949-fa1b-e33db7fe8b2e"
      },
      "execution_count": 84,
      "outputs": [
        {
          "output_type": "execute_result",
          "data": {
            "text/plain": [
              "FRUITS_VEGGIES               int64\n",
              "DAILY_STRESS                 Int64\n",
              "PLACES_VISITED               int64\n",
              "CORE_CIRCLE                  int64\n",
              "SUPPORTING_OTHERS            int64\n",
              "SOCIAL_NETWORK               int64\n",
              "ACHIEVEMENT                  int64\n",
              "DONATION                     int64\n",
              "BMI_RANGE                    int64\n",
              "TODO_COMPLETED               int64\n",
              "FLOW                         int64\n",
              "DAILY_STEPS                  int64\n",
              "LIVE_VISION                  int64\n",
              "SLEEP_HOURS                  int64\n",
              "LOST_VACATION                int64\n",
              "DAILY_SHOUTING               int64\n",
              "SUFFICIENT_INCOME            int64\n",
              "PERSONAL_AWARDS              int64\n",
              "TIME_FOR_PASSION             int64\n",
              "WEEKLY_MEDITATION            int64\n",
              "AGE                         object\n",
              "GENDER                      object\n",
              "WORK_LIFE_BALANCE_SCORE    float64\n",
              "dtype: object"
            ]
          },
          "metadata": {},
          "execution_count": 84
        }
      ]
    },
    {
      "cell_type": "code",
      "source": [
        "# covert DAILY_STRESS data type to int64\n",
        "data[\"DAILY_STRESS\"] = data[\"DAILY_STRESS\"].astype('Int64')"
      ],
      "metadata": {
        "id": "m6iuXGYrM8DC"
      },
      "execution_count": 85,
      "outputs": []
    },
    {
      "cell_type": "code",
      "source": [
        "# check the data type again\n",
        "data[\"DAILY_STRESS\"]"
      ],
      "metadata": {
        "colab": {
          "base_uri": "https://localhost:8080/"
        },
        "id": "oc_tX_V1NFi5",
        "outputId": "32198601-13e8-4407-b3dc-eb19dbc13ea3"
      },
      "execution_count": 87,
      "outputs": [
        {
          "output_type": "execute_result",
          "data": {
            "text/plain": [
              "0        2\n",
              "1        3\n",
              "2        3\n",
              "3        3\n",
              "4        1\n",
              "        ..\n",
              "15967    3\n",
              "15968    3\n",
              "15969    3\n",
              "15970    1\n",
              "15971    4\n",
              "Name: DAILY_STRESS, Length: 15972, dtype: Int64"
            ]
          },
          "metadata": {},
          "execution_count": 87
        }
      ]
    },
    {
      "cell_type": "code",
      "source": [
        "# check null values\n",
        "data.isnull().sum()"
      ],
      "metadata": {
        "colab": {
          "base_uri": "https://localhost:8080/"
        },
        "id": "Tvupk_HZND5o",
        "outputId": "fd14256a-122f-4583-c7b0-9b33ad896ca7"
      },
      "execution_count": 88,
      "outputs": [
        {
          "output_type": "execute_result",
          "data": {
            "text/plain": [
              "FRUITS_VEGGIES             0\n",
              "DAILY_STRESS               1\n",
              "PLACES_VISITED             0\n",
              "CORE_CIRCLE                0\n",
              "SUPPORTING_OTHERS          0\n",
              "SOCIAL_NETWORK             0\n",
              "ACHIEVEMENT                0\n",
              "DONATION                   0\n",
              "BMI_RANGE                  0\n",
              "TODO_COMPLETED             0\n",
              "FLOW                       0\n",
              "DAILY_STEPS                0\n",
              "LIVE_VISION                0\n",
              "SLEEP_HOURS                0\n",
              "LOST_VACATION              0\n",
              "DAILY_SHOUTING             0\n",
              "SUFFICIENT_INCOME          0\n",
              "PERSONAL_AWARDS            0\n",
              "TIME_FOR_PASSION           0\n",
              "WEEKLY_MEDITATION          0\n",
              "AGE                        0\n",
              "GENDER                     0\n",
              "WORK_LIFE_BALANCE_SCORE    0\n",
              "dtype: int64"
            ]
          },
          "metadata": {},
          "execution_count": 88
        }
      ]
    },
    {
      "cell_type": "code",
      "source": [
        "data.dtypes"
      ],
      "metadata": {
        "colab": {
          "base_uri": "https://localhost:8080/"
        },
        "id": "U0luaolmNB50",
        "outputId": "8553eea5-378c-4c6d-d47c-c190c071e82d"
      },
      "execution_count": 89,
      "outputs": [
        {
          "output_type": "execute_result",
          "data": {
            "text/plain": [
              "FRUITS_VEGGIES               int64\n",
              "DAILY_STRESS                 Int64\n",
              "PLACES_VISITED               int64\n",
              "CORE_CIRCLE                  int64\n",
              "SUPPORTING_OTHERS            int64\n",
              "SOCIAL_NETWORK               int64\n",
              "ACHIEVEMENT                  int64\n",
              "DONATION                     int64\n",
              "BMI_RANGE                    int64\n",
              "TODO_COMPLETED               int64\n",
              "FLOW                         int64\n",
              "DAILY_STEPS                  int64\n",
              "LIVE_VISION                  int64\n",
              "SLEEP_HOURS                  int64\n",
              "LOST_VACATION                int64\n",
              "DAILY_SHOUTING               int64\n",
              "SUFFICIENT_INCOME            int64\n",
              "PERSONAL_AWARDS              int64\n",
              "TIME_FOR_PASSION             int64\n",
              "WEEKLY_MEDITATION            int64\n",
              "AGE                         object\n",
              "GENDER                      object\n",
              "WORK_LIFE_BALANCE_SCORE    float64\n",
              "dtype: object"
            ]
          },
          "metadata": {},
          "execution_count": 89
        }
      ]
    },
    {
      "cell_type": "code",
      "source": [
        "# to drop any rows that contain any null values\n",
        "data.dropna(inplace=True)"
      ],
      "metadata": {
        "id": "0sddDAYFMkp7"
      },
      "execution_count": 90,
      "outputs": []
    },
    {
      "cell_type": "code",
      "source": [
        "# check null values again\n",
        "data.isnull().sum()"
      ],
      "metadata": {
        "colab": {
          "base_uri": "https://localhost:8080/"
        },
        "id": "pOFvjUZBWVoc",
        "outputId": "f43bc823-8c23-4282-ac58-f7c563b8db84"
      },
      "execution_count": 92,
      "outputs": [
        {
          "output_type": "execute_result",
          "data": {
            "text/plain": [
              "FRUITS_VEGGIES             0\n",
              "DAILY_STRESS               0\n",
              "PLACES_VISITED             0\n",
              "CORE_CIRCLE                0\n",
              "SUPPORTING_OTHERS          0\n",
              "SOCIAL_NETWORK             0\n",
              "ACHIEVEMENT                0\n",
              "DONATION                   0\n",
              "BMI_RANGE                  0\n",
              "TODO_COMPLETED             0\n",
              "FLOW                       0\n",
              "DAILY_STEPS                0\n",
              "LIVE_VISION                0\n",
              "SLEEP_HOURS                0\n",
              "LOST_VACATION              0\n",
              "DAILY_SHOUTING             0\n",
              "SUFFICIENT_INCOME          0\n",
              "PERSONAL_AWARDS            0\n",
              "TIME_FOR_PASSION           0\n",
              "WEEKLY_MEDITATION          0\n",
              "AGE                        0\n",
              "GENDER                     0\n",
              "WORK_LIFE_BALANCE_SCORE    0\n",
              "dtype: int64"
            ]
          },
          "metadata": {},
          "execution_count": 92
        }
      ]
    },
    {
      "cell_type": "code",
      "source": [
        "# Showing all column names and indexes for data\n",
        "print(* (f\"{i}: {col}\" for i,col in enumerate(data.columns)), sep='\\n')"
      ],
      "metadata": {
        "colab": {
          "base_uri": "https://localhost:8080/"
        },
        "id": "MkGNv33qUhie",
        "outputId": "81a2d3ea-a0e3-4709-ac61-8b3fe0267910"
      },
      "execution_count": 93,
      "outputs": [
        {
          "output_type": "stream",
          "name": "stdout",
          "text": [
            "0: FRUITS_VEGGIES\n",
            "1: DAILY_STRESS\n",
            "2: PLACES_VISITED\n",
            "3: CORE_CIRCLE\n",
            "4: SUPPORTING_OTHERS\n",
            "5: SOCIAL_NETWORK\n",
            "6: ACHIEVEMENT\n",
            "7: DONATION\n",
            "8: BMI_RANGE\n",
            "9: TODO_COMPLETED\n",
            "10: FLOW\n",
            "11: DAILY_STEPS\n",
            "12: LIVE_VISION\n",
            "13: SLEEP_HOURS\n",
            "14: LOST_VACATION\n",
            "15: DAILY_SHOUTING\n",
            "16: SUFFICIENT_INCOME\n",
            "17: PERSONAL_AWARDS\n",
            "18: TIME_FOR_PASSION\n",
            "19: WEEKLY_MEDITATION\n",
            "20: AGE\n",
            "21: GENDER\n",
            "22: WORK_LIFE_BALANCE_SCORE\n"
          ]
        }
      ]
    },
    {
      "cell_type": "code",
      "source": [
        "import numpy as np\n",
        "from sklearn.compose import make_column_transformer\n",
        "from sklearn.preprocessing import MinMaxScaler, OneHotEncoder\n",
        "from sklearn.model_selection import train_test_split\n",
        "\n",
        "# create column transformer\n",
        "ct = make_column_transformer(\n",
        "    (MinMaxScaler(), [\"FRUITS_VEGGIES\", \"DAILY_STRESS\", \"PLACES_VISITED\", \"CORE_CIRCLE\", \"SUPPORTING_OTHERS\", \"SOCIAL_NETWORK\", \"ACHIEVEMENT\", \"DONATION\", \"BMI_RANGE\", \"TODO_COMPLETED\", \"FLOW\", \"DAILY_STEPS\", \"LIVE_VISION\", \"SLEEP_HOURS\", \"LOST_VACATION\", \"DAILY_SHOUTING\", \"SUFFICIENT_INCOME\", \"PERSONAL_AWARDS\", \"TIME_FOR_PASSION\", \"WEEKLY_MEDITATION\"]),\n",
        "    (OneHotEncoder(handle_unknown = \"ignore\"), [\"AGE\", \"GENDER\"])\n",
        ")"
      ],
      "metadata": {
        "id": "ylMSj06eBUk-"
      },
      "execution_count": 94,
      "outputs": []
    },
    {
      "cell_type": "code",
      "source": [
        "# create X and y values\n",
        "X = data.drop(\"WORK_LIFE_BALANCE_SCORE\", axis = 1)\n",
        "y = data[\"WORK_LIFE_BALANCE_SCORE\"]"
      ],
      "metadata": {
        "id": "vFE98i4sECta"
      },
      "execution_count": 95,
      "outputs": []
    },
    {
      "cell_type": "code",
      "source": [
        "len(X), len(y)"
      ],
      "metadata": {
        "colab": {
          "base_uri": "https://localhost:8080/"
        },
        "id": "PD95Ura4Wc4v",
        "outputId": "0e68c147-0f1e-4cad-9afd-f321396e6deb"
      },
      "execution_count": 98,
      "outputs": [
        {
          "output_type": "execute_result",
          "data": {
            "text/plain": [
              "(15971, 15971)"
            ]
          },
          "metadata": {},
          "execution_count": 98
        }
      ]
    },
    {
      "cell_type": "code",
      "source": [
        "# train_test_split\n",
        "X_train, X_test, y_train, y_test = train_test_split(X, y, test_size = 0.2, random_state = 42)"
      ],
      "metadata": {
        "id": "AWThJm4OENGR"
      },
      "execution_count": 100,
      "outputs": []
    },
    {
      "cell_type": "code",
      "source": [
        "# fit column transformer\n",
        "ct.fit(X_train)\n",
        "\n",
        "# transforming training and test data\n",
        "X_train_normal = ct.transform(X_train)\n",
        "X_test_normal = ct.transform(X_test)"
      ],
      "metadata": {
        "id": "__2F9YyvEzUE"
      },
      "execution_count": 101,
      "outputs": []
    },
    {
      "cell_type": "code",
      "source": [
        "X_train_normal[0]"
      ],
      "metadata": {
        "colab": {
          "base_uri": "https://localhost:8080/"
        },
        "id": "4k8eHCvxHQlA",
        "outputId": "b0ed3aca-4807-4747-d546-80fd669a6508"
      },
      "execution_count": 102,
      "outputs": [
        {
          "output_type": "execute_result",
          "data": {
            "text/plain": [
              "array([0.6       , 0.8       , 0.7       , 0.3       , 0.3       ,\n",
              "       0.3       , 0.2       , 1.        , 1.        , 0.6       ,\n",
              "       0.1       , 0.55555556, 0.        , 0.77777778, 0.        ,\n",
              "       0.4       , 1.        , 0.8       , 0.1       , 0.6       ,\n",
              "       1.        , 0.        , 0.        , 0.        , 0.        ,\n",
              "       1.        ])"
            ]
          },
          "metadata": {},
          "execution_count": 102
        }
      ]
    },
    {
      "cell_type": "code",
      "source": [
        "X_test_normal[0]"
      ],
      "metadata": {
        "colab": {
          "base_uri": "https://localhost:8080/"
        },
        "id": "-BT3sNaeHTR6",
        "outputId": "b7c9ad11-1a0b-480f-803c-4c8796908cf3"
      },
      "execution_count": 103,
      "outputs": [
        {
          "output_type": "execute_result",
          "data": {
            "text/plain": [
              "array([0.8       , 1.        , 0.4       , 0.6       , 0.5       ,\n",
              "       0.5       , 0.        , 1.        , 1.        , 0.4       ,\n",
              "       0.2       , 1.        , 0.2       , 0.55555556, 0.5       ,\n",
              "       0.1       , 1.        , 0.5       , 0.1       , 0.5       ,\n",
              "       0.        , 1.        , 0.        , 0.        , 1.        ,\n",
              "       0.        ])"
            ]
          },
          "metadata": {},
          "execution_count": 103
        }
      ]
    },
    {
      "cell_type": "markdown",
      "source": [
        "## Build a neural network"
      ],
      "metadata": {
        "id": "v-uDY8enHluW"
      }
    },
    {
      "cell_type": "code",
      "source": [
        "# create\n",
        "model = tf.keras.Sequential([\n",
        "    tf.keras.layers.Dense(12, activation = \"relu\"),\n",
        "    tf.keras.layers.Dense(6, activation = \"relu\"),\n",
        "    tf.keras.layers.Dense(4, activation = \"relu\"),\n",
        "    tf.keras.layers.Dense(1)\n",
        "])\n",
        "\n",
        "# compile\n",
        "model.compile(loss = tf.keras.losses.mae,\n",
        "              optimizer = tf.keras.optimizers.Adam(),\n",
        "              metrics = [\"mae\"])\n",
        "\n",
        "# fit\n",
        "model.fit(X_train_normal, np.array(y_train), epochs = 100)"
      ],
      "metadata": {
        "colab": {
          "base_uri": "https://localhost:8080/"
        },
        "id": "04vjxNaaHoAM",
        "outputId": "0e549453-dba0-458c-b7cf-3a5b32524591"
      },
      "execution_count": 105,
      "outputs": [
        {
          "output_type": "stream",
          "name": "stdout",
          "text": [
            "Epoch 1/100\n",
            "400/400 [==============================] - 2s 3ms/step - loss: 646.9933 - mae: 646.9933\n",
            "Epoch 2/100\n",
            "400/400 [==============================] - 1s 2ms/step - loss: 225.5381 - mae: 225.5381\n",
            "Epoch 3/100\n",
            "400/400 [==============================] - 1s 2ms/step - loss: 60.1071 - mae: 60.1071\n",
            "Epoch 4/100\n",
            "400/400 [==============================] - 1s 2ms/step - loss: 48.2764 - mae: 48.2764\n",
            "Epoch 5/100\n",
            "400/400 [==============================] - 1s 2ms/step - loss: 37.9222 - mae: 37.9222\n",
            "Epoch 6/100\n",
            "400/400 [==============================] - 1s 2ms/step - loss: 29.2875 - mae: 29.2875\n",
            "Epoch 7/100\n",
            "400/400 [==============================] - 1s 2ms/step - loss: 21.5597 - mae: 21.5597\n",
            "Epoch 8/100\n",
            "400/400 [==============================] - 1s 2ms/step - loss: 14.8106 - mae: 14.8106\n",
            "Epoch 9/100\n",
            "400/400 [==============================] - 1s 2ms/step - loss: 10.3268 - mae: 10.3268\n",
            "Epoch 10/100\n",
            "400/400 [==============================] - 1s 2ms/step - loss: 7.4357 - mae: 7.4357\n",
            "Epoch 11/100\n",
            "400/400 [==============================] - 1s 2ms/step - loss: 5.1436 - mae: 5.1436\n",
            "Epoch 12/100\n",
            "400/400 [==============================] - 1s 2ms/step - loss: 2.8843 - mae: 2.8843\n",
            "Epoch 13/100\n",
            "400/400 [==============================] - 1s 2ms/step - loss: 0.9020 - mae: 0.9020\n",
            "Epoch 14/100\n",
            "400/400 [==============================] - 1s 2ms/step - loss: 0.3221 - mae: 0.3221\n",
            "Epoch 15/100\n",
            "400/400 [==============================] - 1s 2ms/step - loss: 0.2845 - mae: 0.2845\n",
            "Epoch 16/100\n",
            "400/400 [==============================] - 1s 2ms/step - loss: 0.2347 - mae: 0.2347\n",
            "Epoch 17/100\n",
            "400/400 [==============================] - 1s 2ms/step - loss: 0.2069 - mae: 0.2069\n",
            "Epoch 18/100\n",
            "400/400 [==============================] - 1s 2ms/step - loss: 0.2076 - mae: 0.2076\n",
            "Epoch 19/100\n",
            "400/400 [==============================] - 1s 2ms/step - loss: 0.2255 - mae: 0.2255\n",
            "Epoch 20/100\n",
            "400/400 [==============================] - 1s 2ms/step - loss: 0.2052 - mae: 0.2052\n",
            "Epoch 21/100\n",
            "400/400 [==============================] - 1s 3ms/step - loss: 0.2004 - mae: 0.2004\n",
            "Epoch 22/100\n",
            "400/400 [==============================] - 1s 3ms/step - loss: 0.2307 - mae: 0.2307\n",
            "Epoch 23/100\n",
            "400/400 [==============================] - 1s 2ms/step - loss: 0.2085 - mae: 0.2085\n",
            "Epoch 24/100\n",
            "400/400 [==============================] - 1s 2ms/step - loss: 0.2169 - mae: 0.2169\n",
            "Epoch 25/100\n",
            "400/400 [==============================] - 1s 2ms/step - loss: 0.1992 - mae: 0.1992\n",
            "Epoch 26/100\n",
            "400/400 [==============================] - 1s 2ms/step - loss: 0.1618 - mae: 0.1618\n",
            "Epoch 27/100\n",
            "400/400 [==============================] - 1s 2ms/step - loss: 0.2096 - mae: 0.2096\n",
            "Epoch 28/100\n",
            "400/400 [==============================] - 1s 2ms/step - loss: 0.1602 - mae: 0.1602\n",
            "Epoch 29/100\n",
            "400/400 [==============================] - 1s 2ms/step - loss: 0.1866 - mae: 0.1866\n",
            "Epoch 30/100\n",
            "400/400 [==============================] - 1s 2ms/step - loss: 0.1911 - mae: 0.1911\n",
            "Epoch 31/100\n",
            "400/400 [==============================] - 1s 2ms/step - loss: 0.2077 - mae: 0.2077\n",
            "Epoch 32/100\n",
            "400/400 [==============================] - 1s 2ms/step - loss: 0.1770 - mae: 0.1770\n",
            "Epoch 33/100\n",
            "400/400 [==============================] - 1s 2ms/step - loss: 0.2099 - mae: 0.2099\n",
            "Epoch 34/100\n",
            "400/400 [==============================] - 1s 2ms/step - loss: 0.1855 - mae: 0.1855\n",
            "Epoch 35/100\n",
            "400/400 [==============================] - 1s 2ms/step - loss: 0.1583 - mae: 0.1583\n",
            "Epoch 36/100\n",
            "400/400 [==============================] - 1s 2ms/step - loss: 0.2171 - mae: 0.2171\n",
            "Epoch 37/100\n",
            "400/400 [==============================] - 1s 2ms/step - loss: 0.1952 - mae: 0.1952\n",
            "Epoch 38/100\n",
            "400/400 [==============================] - 1s 2ms/step - loss: 0.1830 - mae: 0.1830\n",
            "Epoch 39/100\n",
            "400/400 [==============================] - 1s 2ms/step - loss: 0.2062 - mae: 0.2062\n",
            "Epoch 40/100\n",
            "400/400 [==============================] - 1s 2ms/step - loss: 0.1758 - mae: 0.1758\n",
            "Epoch 41/100\n",
            "400/400 [==============================] - 1s 2ms/step - loss: 0.1647 - mae: 0.1647\n",
            "Epoch 42/100\n",
            "400/400 [==============================] - 1s 2ms/step - loss: 0.1889 - mae: 0.1889\n",
            "Epoch 43/100\n",
            "400/400 [==============================] - 1s 2ms/step - loss: 0.2115 - mae: 0.2115\n",
            "Epoch 44/100\n",
            "400/400 [==============================] - 1s 2ms/step - loss: 0.1950 - mae: 0.1950\n",
            "Epoch 45/100\n",
            "400/400 [==============================] - 1s 2ms/step - loss: 0.1581 - mae: 0.1581\n",
            "Epoch 46/100\n",
            "400/400 [==============================] - 1s 2ms/step - loss: 0.1533 - mae: 0.1533\n",
            "Epoch 47/100\n",
            "400/400 [==============================] - 1s 2ms/step - loss: 0.1941 - mae: 0.1941\n",
            "Epoch 48/100\n",
            "400/400 [==============================] - 1s 2ms/step - loss: 0.1886 - mae: 0.1886\n",
            "Epoch 49/100\n",
            "400/400 [==============================] - 1s 2ms/step - loss: 0.1661 - mae: 0.1661\n",
            "Epoch 50/100\n",
            "400/400 [==============================] - 1s 2ms/step - loss: 0.1868 - mae: 0.1868\n",
            "Epoch 51/100\n",
            "400/400 [==============================] - 1s 2ms/step - loss: 0.1603 - mae: 0.1603\n",
            "Epoch 52/100\n",
            "400/400 [==============================] - 1s 2ms/step - loss: 0.1836 - mae: 0.1836\n",
            "Epoch 53/100\n",
            "400/400 [==============================] - 1s 2ms/step - loss: 0.1391 - mae: 0.1391\n",
            "Epoch 54/100\n",
            "400/400 [==============================] - 1s 2ms/step - loss: 0.1956 - mae: 0.1956\n",
            "Epoch 55/100\n",
            "400/400 [==============================] - 1s 2ms/step - loss: 0.1464 - mae: 0.1464\n",
            "Epoch 56/100\n",
            "400/400 [==============================] - 1s 2ms/step - loss: 0.1899 - mae: 0.1899\n",
            "Epoch 57/100\n",
            "400/400 [==============================] - 1s 3ms/step - loss: 0.2035 - mae: 0.2035\n",
            "Epoch 58/100\n",
            "400/400 [==============================] - 1s 2ms/step - loss: 0.1721 - mae: 0.1721\n",
            "Epoch 59/100\n",
            "400/400 [==============================] - 1s 2ms/step - loss: 0.1644 - mae: 0.1644\n",
            "Epoch 60/100\n",
            "400/400 [==============================] - 1s 2ms/step - loss: 0.1592 - mae: 0.1592\n",
            "Epoch 61/100\n",
            "400/400 [==============================] - 1s 2ms/step - loss: 0.1665 - mae: 0.1665\n",
            "Epoch 62/100\n",
            "400/400 [==============================] - 1s 2ms/step - loss: 0.1592 - mae: 0.1592\n",
            "Epoch 63/100\n",
            "400/400 [==============================] - 1s 2ms/step - loss: 0.1655 - mae: 0.1655\n",
            "Epoch 64/100\n",
            "400/400 [==============================] - 1s 2ms/step - loss: 0.1671 - mae: 0.1671\n",
            "Epoch 65/100\n",
            "400/400 [==============================] - 1s 2ms/step - loss: 0.1788 - mae: 0.1788\n",
            "Epoch 66/100\n",
            "400/400 [==============================] - 1s 2ms/step - loss: 0.1840 - mae: 0.1840\n",
            "Epoch 67/100\n",
            "400/400 [==============================] - 1s 2ms/step - loss: 0.1635 - mae: 0.1635\n",
            "Epoch 68/100\n",
            "400/400 [==============================] - 1s 2ms/step - loss: 0.1524 - mae: 0.1524\n",
            "Epoch 69/100\n",
            "400/400 [==============================] - 1s 2ms/step - loss: 0.2032 - mae: 0.2032\n",
            "Epoch 70/100\n",
            "400/400 [==============================] - 1s 2ms/step - loss: 0.1885 - mae: 0.1885\n",
            "Epoch 71/100\n",
            "400/400 [==============================] - 1s 2ms/step - loss: 0.1636 - mae: 0.1636\n",
            "Epoch 72/100\n",
            "400/400 [==============================] - 1s 2ms/step - loss: 0.1959 - mae: 0.1959\n",
            "Epoch 73/100\n",
            "400/400 [==============================] - 1s 2ms/step - loss: 0.1743 - mae: 0.1743\n",
            "Epoch 74/100\n",
            "400/400 [==============================] - 1s 2ms/step - loss: 0.1690 - mae: 0.1690\n",
            "Epoch 75/100\n",
            "400/400 [==============================] - 1s 3ms/step - loss: 0.1526 - mae: 0.1526\n",
            "Epoch 76/100\n",
            "400/400 [==============================] - 2s 4ms/step - loss: 0.1776 - mae: 0.1776\n",
            "Epoch 77/100\n",
            "400/400 [==============================] - 1s 2ms/step - loss: 0.1808 - mae: 0.1808\n",
            "Epoch 78/100\n",
            "400/400 [==============================] - 1s 3ms/step - loss: 0.1766 - mae: 0.1766\n",
            "Epoch 79/100\n",
            "400/400 [==============================] - 1s 2ms/step - loss: 0.1502 - mae: 0.1502\n",
            "Epoch 80/100\n",
            "400/400 [==============================] - 1s 2ms/step - loss: 0.1574 - mae: 0.1574\n",
            "Epoch 81/100\n",
            "400/400 [==============================] - 1s 2ms/step - loss: 0.1559 - mae: 0.1559\n",
            "Epoch 82/100\n",
            "400/400 [==============================] - 1s 2ms/step - loss: 0.1867 - mae: 0.1867\n",
            "Epoch 83/100\n",
            "400/400 [==============================] - 1s 2ms/step - loss: 0.1783 - mae: 0.1783\n",
            "Epoch 84/100\n",
            "400/400 [==============================] - 1s 2ms/step - loss: 0.1661 - mae: 0.1661\n",
            "Epoch 85/100\n",
            "400/400 [==============================] - 1s 2ms/step - loss: 0.1686 - mae: 0.1686\n",
            "Epoch 86/100\n",
            "400/400 [==============================] - 1s 2ms/step - loss: 0.1620 - mae: 0.1620\n",
            "Epoch 87/100\n",
            "400/400 [==============================] - 1s 2ms/step - loss: 0.1710 - mae: 0.1710\n",
            "Epoch 88/100\n",
            "400/400 [==============================] - 1s 2ms/step - loss: 0.1695 - mae: 0.1695\n",
            "Epoch 89/100\n",
            "400/400 [==============================] - 1s 2ms/step - loss: 0.1583 - mae: 0.1583\n",
            "Epoch 90/100\n",
            "400/400 [==============================] - 1s 2ms/step - loss: 0.1713 - mae: 0.1713\n",
            "Epoch 91/100\n",
            "400/400 [==============================] - 1s 2ms/step - loss: 0.1431 - mae: 0.1431\n",
            "Epoch 92/100\n",
            "400/400 [==============================] - 1s 2ms/step - loss: 0.1860 - mae: 0.1860\n",
            "Epoch 93/100\n",
            "400/400 [==============================] - 1s 2ms/step - loss: 0.1603 - mae: 0.1603\n",
            "Epoch 94/100\n",
            "400/400 [==============================] - 1s 2ms/step - loss: 0.1753 - mae: 0.1753\n",
            "Epoch 95/100\n",
            "400/400 [==============================] - 1s 3ms/step - loss: 0.1825 - mae: 0.1825\n",
            "Epoch 96/100\n",
            "400/400 [==============================] - 1s 2ms/step - loss: 0.1861 - mae: 0.1861\n",
            "Epoch 97/100\n",
            "400/400 [==============================] - 1s 2ms/step - loss: 0.1630 - mae: 0.1630\n",
            "Epoch 98/100\n",
            "400/400 [==============================] - 1s 2ms/step - loss: 0.1861 - mae: 0.1861\n",
            "Epoch 99/100\n",
            "400/400 [==============================] - 1s 2ms/step - loss: 0.1914 - mae: 0.1914\n",
            "Epoch 100/100\n",
            "400/400 [==============================] - 1s 2ms/step - loss: 0.1372 - mae: 0.1372\n"
          ]
        },
        {
          "output_type": "execute_result",
          "data": {
            "text/plain": [
              "<keras.callbacks.History at 0x7e07165bfbe0>"
            ]
          },
          "metadata": {},
          "execution_count": 105
        }
      ]
    },
    {
      "cell_type": "markdown",
      "source": [
        "## Evaluate the model"
      ],
      "metadata": {
        "id": "DjHhAjcmXNwq"
      }
    },
    {
      "cell_type": "code",
      "source": [
        "model.evaluate(X_test_normal, y_test)"
      ],
      "metadata": {
        "colab": {
          "base_uri": "https://localhost:8080/"
        },
        "id": "atpT33vVW-aK",
        "outputId": "11aad959-0bde-47ed-d445-c92dfae66a92"
      },
      "execution_count": 106,
      "outputs": [
        {
          "output_type": "stream",
          "name": "stdout",
          "text": [
            "100/100 [==============================] - 1s 5ms/step - loss: 0.2028 - mae: 0.2028\n"
          ]
        },
        {
          "output_type": "execute_result",
          "data": {
            "text/plain": [
              "[0.2027672529220581, 0.2027672529220581]"
            ]
          },
          "metadata": {},
          "execution_count": 106
        }
      ]
    },
    {
      "cell_type": "code",
      "source": [
        "# make some predictions\n",
        "y_pred = model.predict(X_test_normal)"
      ],
      "metadata": {
        "colab": {
          "base_uri": "https://localhost:8080/"
        },
        "id": "397ikzFyh2hP",
        "outputId": "130abae8-cac0-4e61-f012-ea19ae821ce7"
      },
      "execution_count": 108,
      "outputs": [
        {
          "output_type": "stream",
          "name": "stdout",
          "text": [
            "100/100 [==============================] - 1s 3ms/step\n"
          ]
        }
      ]
    },
    {
      "cell_type": "markdown",
      "source": [
        "## Plotting"
      ],
      "metadata": {
        "id": "IavhNSGaZvuX"
      }
    },
    {
      "cell_type": "code",
      "source": [
        "def plot_predictions(train_data = X_train_normal[:,0],\n",
        "                     train_labels = y_train,\n",
        "                     test_data = X_test_normal[:,0],\n",
        "                     test_labels = y_test,\n",
        "                     predictions = y_pred):\n",
        "  \"\"\"\n",
        "  Plots training data,test data, and compares to predictions to ground truth labels\n",
        "  \"\"\"\n",
        "  plt.figure(figsize = (10, 7))\n",
        "\n",
        "  # plot test data in green\n",
        "  plt.scatter(test_data, test_labels, c = \"g\", label = \"Test Data\")\n",
        "\n",
        "  # plot predictions in red\n",
        "  plt.scatter(test_data, predictions, c = \"r\", label = \"Predictions\")\n",
        "\n",
        "  # show a legend\n",
        "  plt.legend()"
      ],
      "metadata": {
        "id": "ct_gbwMeZzJT"
      },
      "execution_count": 109,
      "outputs": []
    },
    {
      "cell_type": "code",
      "source": [
        "plot_predictions()"
      ],
      "metadata": {
        "colab": {
          "base_uri": "https://localhost:8080/",
          "height": 599
        },
        "id": "EmpCDN82h6LI",
        "outputId": "0d34d2da-4eea-4b51-a70b-46779fdd4d2f"
      },
      "execution_count": 110,
      "outputs": [
        {
          "output_type": "display_data",
          "data": {
            "text/plain": [
              "<Figure size 1000x700 with 1 Axes>"
            ],
            "image/png": "[encoded data removed]"
          },
          "metadata": {}
        }
      ]
    }
  ]
}